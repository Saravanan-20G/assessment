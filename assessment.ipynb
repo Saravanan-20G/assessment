{
 "cells": [
  {
   "cell_type": "markdown",
   "id": "bcc3a21b",
   "metadata": {},
   "source": [
    "OneData Assessment "
   ]
  },
  {
   "cell_type": "markdown",
   "id": "cccf1d58",
   "metadata": {},
   "source": [
    "Task 1: Upload Data to MinIO"
   ]
  },
  {
   "cell_type": "code",
   "execution_count": 8,
   "id": "ae204667",
   "metadata": {},
   "outputs": [
    {
     "name": "stdout",
     "output_type": "stream",
     "text": [
      "✅ Bucket created\n",
      "✅ Uploaded care_reception.csv to raw/assessment/care_reception.csv\n",
      "✅ Uploaded event.csv to raw/assessment/event.csv\n",
      "✅ Uploaded participation.csv to raw/assessment/participation.csv\n",
      "✅ Uploaded patients.csv to raw/assessment/patients.csv\n"
     ]
    }
   ],
   "source": [
    "import boto3\n",
    "from botocore.client import Config\n",
    "from botocore.exceptions import ClientError\n",
    "\n",
    "# Connect to MinIO\n",
    "s3 = boto3.client(\n",
    "    's3',\n",
    "    endpoint_url='http://127.0.0.1:9000',\n",
    "    aws_access_key_id='minioadmin',\n",
    "    aws_secret_access_key='minioadmin',\n",
    "    config=Config(signature_version='s3v4'),\n",
    "    region_name='us-east-1'\n",
    ")\n",
    "\n",
    "bucket_name = \"my-bucket\"\n",
    "\n",
    "# Ensure bucket exists\n",
    "try:\n",
    "    s3.head_bucket(Bucket=bucket_name)\n",
    "    print(\"✅ Bucket already exists\")\n",
    "except ClientError:\n",
    "    s3.create_bucket(Bucket=bucket_name)\n",
    "    print(\"✅ Bucket created\")\n",
    "\n",
    "# Files to upload\n",
    "files = [\n",
    "    r\"E:\\Assessment_Data\\care_reception.csv\",\n",
    "    r\"E:\\Assessment_Data\\event.csv\",\n",
    "    r\"E:\\Assessment_Data\\participation.csv\",\n",
    "    r\"E:\\Assessment_Data\\patients.csv\"\n",
    "]\n",
    "\n",
    "# Upload files\n",
    "for file_path in files:\n",
    "    file_name = file_path.split(\"\\\\\")[-1]   # extract file name\n",
    "    object_name = f\"raw/assessment/{file_name}\"\n",
    "    s3.upload_file(file_path, bucket_name, object_name)\n",
    "    print(f\"✅ Uploaded {file_name} to {object_name}\")\n"
   ]
  },
  {
   "cell_type": "markdown",
   "id": "d7a7fbef",
   "metadata": {},
   "source": [
    "Task 2: Analyze and Map All Data into One Table"
   ]
  },
  {
   "cell_type": "code",
   "execution_count": 10,
   "id": "9038cad3",
   "metadata": {},
   "outputs": [],
   "source": [
    "import pandas as pd"
   ]
  },
  {
   "cell_type": "code",
   "execution_count": 11,
   "id": "59dd78be",
   "metadata": {},
   "outputs": [],
   "source": [
    "\n",
    "patients = pd.read_csv(\"E:/Assessment_Data/patients.csv\")\n",
    "care_reception = pd.read_csv(\"E:/Assessment_Data/care_reception.csv\")\n",
    "event = pd.read_csv(\"E:/Assessment_Data/event.csv\")\n",
    "participation = pd.read_csv(\"E:/Assessment_Data/participation.csv\")\n"
   ]
  },
  {
   "cell_type": "code",
   "execution_count": 24,
   "id": "07057936",
   "metadata": {},
   "outputs": [
    {
     "name": "stdout",
     "output_type": "stream",
     "text": [
      "   Unnamed: 0   id first_name  last_name   gender  organization_id  \\\n",
      "0           0  145        Raj      kumar     MALE                1   \n",
      "1           1  146      Barry   Martinez     MALE                1   \n",
      "2           2  147     Janice  Castaneda     MALE                1   \n",
      "3           3  148    Rebecca       Tran   FEMALE                1   \n",
      "4           4  149     Jeremy       Ward     MALE                1   \n",
      "5           5  150     Justin     Foster  UNKNOWN                1   \n",
      "6           6  151     Dinesh      kumar     MALE                1   \n",
      "7           7  152     Steven     Guerra  UNKNOWN                1   \n",
      "8           8  153   Kimberly      Smith   FEMALE                1   \n",
      "9           9  154    Valerie     Larson   FEMALE                1   \n",
      "\n",
      "                         created_at  created_by  status_id date_of_birth  \\\n",
      "0  2024-10-21 11:13:19.200878+00:00         139          2    1987-02-02   \n",
      "1  2024-10-21 11:44:27.982926+00:00         139          2    1990-01-10   \n",
      "2  2024-10-21 11:47:43.460770+00:00         139          2    1998-07-16   \n",
      "3  2024-10-21 11:53:13.773876+00:00         139          2    2000-02-23   \n",
      "4  2024-10-21 11:55:30.445362+00:00         139          2    1990-01-02   \n",
      "5  2024-10-21 11:59:04.315879+00:00         139          2    1999-07-18   \n",
      "6  2024-10-21 12:01:29.496123+00:00         139          2    1980-01-03   \n",
      "7  2024-10-21 12:05:12.792229+00:00         139          2    1975-10-11   \n",
      "8  2024-10-21 12:06:30.912623+00:00         139          2    2000-07-07   \n",
      "9  2024-10-21 12:10:01.321341+00:00         139          2    1995-08-15   \n",
      "\n",
      "  email external_id organ_donner blood_donner           phone  marital_status  \\\n",
      "0   NaN         NaN        False        False   91 9894336789             1.0   \n",
      "1   NaN         NaN        False        False   91 9876543210             1.0   \n",
      "2   NaN         NaN        False        False  +91 9876566815             0.0   \n",
      "3   NaN         NaN        False        False   91 9123456780             0.0   \n",
      "4   NaN         NaN         True         True   91 7108355642             1.0   \n",
      "5   NaN         NaN        False        False   91 8053694105             0.0   \n",
      "6   NaN         NaN         True         True   91 7108355649             1.0   \n",
      "7   NaN         NaN        False        False   91 9876566915             0.0   \n",
      "8   NaN         NaN        False         True   91 8843231114             1.0   \n",
      "9   NaN         NaN        False        False   91 9998887772             1.0   \n",
      "\n",
      "   updated_by                        updated_at         Full_Name  \n",
      "0         NaN                               NaN         Raj kumar  \n",
      "1         NaN                               NaN    Barry Martinez  \n",
      "2       139.0  2024-10-21 12:07:35.551796+00:00  Janice Castaneda  \n",
      "3         NaN                               NaN      Rebecca Tran  \n",
      "4         NaN                               NaN       Jeremy Ward  \n",
      "5         NaN                               NaN     Justin Foster  \n",
      "6         NaN                               NaN      Dinesh kumar  \n",
      "7         NaN                               NaN     Steven Guerra  \n",
      "8         NaN                               NaN    Kimberly Smith  \n",
      "9         NaN                               NaN    Valerie Larson  \n"
     ]
    }
   ],
   "source": [
    "print(patients.head(10))"
   ]
  },
  {
   "cell_type": "code",
   "execution_count": 28,
   "id": "0135575f",
   "metadata": {},
   "outputs": [],
   "source": [
    "patients = patients[[\n",
    "    'id', 'first_name', 'last_name', 'gender', 'date_of_birth', \n",
    "    'email', 'phone', 'marital_status', 'Full_Name'\n",
    "]]"
   ]
  },
  {
   "cell_type": "code",
   "execution_count": 30,
   "id": "37034409",
   "metadata": {},
   "outputs": [
    {
     "name": "stdout",
     "output_type": "stream",
     "text": [
      "        id first_name   last_name   gender date_of_birth  \\\n",
      "0      145        Raj       kumar     MALE    1987-02-02   \n",
      "1      146      Barry    Martinez     MALE    1990-01-10   \n",
      "2      147     Janice   Castaneda     MALE    1998-07-16   \n",
      "3      148    Rebecca        Tran   FEMALE    2000-02-23   \n",
      "4      149     Jeremy        Ward     MALE    1990-01-02   \n",
      "...    ...        ...         ...      ...           ...   \n",
      "3550  2554        vbn         vnb  UNKNOWN           NaT   \n",
      "3551  2559      Selva          ss  UNKNOWN           NaT   \n",
      "3552  2564      Sudha          MA   FEMALE    1996-12-22   \n",
      "3553  2566      Nuzha  MeeraLebbe  UNKNOWN    1999-11-20   \n",
      "3554  2567      Anaas     Mohamed     MALE    1998-11-20   \n",
      "\n",
      "                       email           phone  marital_status         Full_Name  \n",
      "0                        NaN   91 9894336789             1.0         Raj kumar  \n",
      "1                        NaN   91 9876543210             1.0    Barry Martinez  \n",
      "2                        NaN  +91 9876566815             0.0  Janice Castaneda  \n",
      "3                        NaN   91 9123456780             0.0      Rebecca Tran  \n",
      "4                        NaN   91 7108355642             1.0       Jeremy Ward  \n",
      "...                      ...             ...             ...               ...  \n",
      "3550     nuzha0518@gmail.com   94 0763845000             NaN           vbn vnb  \n",
      "3551                     NaN   91 6876567890             0.0          Selva ss  \n",
      "3552   sudhama0518@gmail.com   94 0715324625             1.0          Sudha MA  \n",
      "3553       nuzha12@gmail.com   94 0763845455             0.0  Nuzha MeeraLebbe  \n",
      "3554  nuzhalebbe99@gmail.com   94 0775403881             1.0     Anaas Mohamed  \n",
      "\n",
      "[3555 rows x 9 columns]\n"
     ]
    }
   ],
   "source": [
    "print(patients)"
   ]
  },
  {
   "cell_type": "code",
   "execution_count": 31,
   "id": "c2c785b5",
   "metadata": {},
   "outputs": [],
   "source": [
    "patients['email'] = patients['email'].fillna('Unknown')\n",
    "patients['phone'] = patients['phone'].fillna('Unknown')\n",
    "patients['gender'] = patients['gender'].fillna('Unknown')\n"
   ]
  },
  {
   "cell_type": "code",
   "execution_count": 32,
   "id": "2e84ad2b",
   "metadata": {},
   "outputs": [
    {
     "name": "stdout",
     "output_type": "stream",
     "text": [
      "        id first_name   last_name   gender date_of_birth  \\\n",
      "0      145        Raj       kumar     MALE    1987-02-02   \n",
      "1      146      Barry    Martinez     MALE    1990-01-10   \n",
      "2      147     Janice   Castaneda     MALE    1998-07-16   \n",
      "3      148    Rebecca        Tran   FEMALE    2000-02-23   \n",
      "4      149     Jeremy        Ward     MALE    1990-01-02   \n",
      "...    ...        ...         ...      ...           ...   \n",
      "3550  2554        vbn         vnb  UNKNOWN           NaT   \n",
      "3551  2559      Selva          ss  UNKNOWN           NaT   \n",
      "3552  2564      Sudha          MA   FEMALE    1996-12-22   \n",
      "3553  2566      Nuzha  MeeraLebbe  UNKNOWN    1999-11-20   \n",
      "3554  2567      Anaas     Mohamed     MALE    1998-11-20   \n",
      "\n",
      "                       email           phone  marital_status         Full_Name  \n",
      "0                    Unknown   91 9894336789             1.0         Raj kumar  \n",
      "1                    Unknown   91 9876543210             1.0    Barry Martinez  \n",
      "2                    Unknown  +91 9876566815             0.0  Janice Castaneda  \n",
      "3                    Unknown   91 9123456780             0.0      Rebecca Tran  \n",
      "4                    Unknown   91 7108355642             1.0       Jeremy Ward  \n",
      "...                      ...             ...             ...               ...  \n",
      "3550     nuzha0518@gmail.com   94 0763845000             NaN           vbn vnb  \n",
      "3551                 Unknown   91 6876567890             0.0          Selva ss  \n",
      "3552   sudhama0518@gmail.com   94 0715324625             1.0          Sudha MA  \n",
      "3553       nuzha12@gmail.com   94 0763845455             0.0  Nuzha MeeraLebbe  \n",
      "3554  nuzhalebbe99@gmail.com   94 0775403881             1.0     Anaas Mohamed  \n",
      "\n",
      "[3555 rows x 9 columns]\n"
     ]
    }
   ],
   "source": [
    "print(patients)"
   ]
  },
  {
   "cell_type": "code",
   "execution_count": 25,
   "id": "3f1698a6",
   "metadata": {},
   "outputs": [
    {
     "name": "stdout",
     "output_type": "stream",
     "text": [
      "   participation_id  patient_id  unregistered_user_id  address_id message  \\\n",
      "0               578        38.0                   NaN         NaN     NaN   \n",
      "1                72        37.0                   NaN         NaN     NaN   \n",
      "2               509        56.0                   NaN         NaN     NaN   \n",
      "3                73        37.0                   NaN         NaN     NaN   \n",
      "4                74        37.0                   NaN         NaN     NaN   \n",
      "5                75        38.0                   NaN         NaN     NaN   \n",
      "6               512        41.0                   NaN         NaN     NaN   \n",
      "7                76        38.0                   NaN         NaN     NaN   \n",
      "8                95        38.0                   NaN         NaN     NaN   \n",
      "9               100        42.0                   NaN         NaN     NaN   \n",
      "\n",
      "   status  meeting_status patient_attendant_name  \\\n",
      "0       1           False                    NaN   \n",
      "1       3           False                    NaN   \n",
      "2       1           False                    NaN   \n",
      "3       3           False                    NaN   \n",
      "4       3           False                    NaN   \n",
      "5       1           False                    NaN   \n",
      "6       1           False                    NaN   \n",
      "7       3           False                    NaN   \n",
      "8       3           False                    NaN   \n",
      "9       1           False                    NaN   \n",
      "\n",
      "  patient_attendant_phone_number cancellation_reason  \n",
      "0                            NaN                 NaN  \n",
      "1                            NaN                 NaN  \n",
      "2                            NaN                 NaN  \n",
      "3                            NaN                 NaN  \n",
      "4                            NaN                 NaN  \n",
      "5                            NaN                 NaN  \n",
      "6                            NaN                 NaN  \n",
      "7                            NaN                 NaN  \n",
      "8                            NaN                 NaN  \n",
      "9                            NaN                 NaN  \n"
     ]
    }
   ],
   "source": [
    "print(care_reception.head(10))"
   ]
  },
  {
   "cell_type": "code",
   "execution_count": 34,
   "id": "948f9432",
   "metadata": {},
   "outputs": [
    {
     "ename": "KeyError",
     "evalue": "\"None of [Index(['id', 'title', 'start', 'end', 'type'], dtype='object')] are in the [columns]\"",
     "output_type": "error",
     "traceback": [
      "\u001b[31m---------------------------------------------------------------------------\u001b[39m",
      "\u001b[31mKeyError\u001b[39m                                  Traceback (most recent call last)",
      "\u001b[36mCell\u001b[39m\u001b[36m \u001b[39m\u001b[32mIn[34]\u001b[39m\u001b[32m, line 1\u001b[39m\n\u001b[32m----> \u001b[39m\u001b[32m1\u001b[39m care_reception = \u001b[43mcare_reception\u001b[49m\u001b[43m[\u001b[49m\u001b[43m[\u001b[49m\n\u001b[32m      2\u001b[39m \u001b[43m    \u001b[49m\u001b[33;43m'\u001b[39;49m\u001b[33;43mid\u001b[39;49m\u001b[33;43m'\u001b[39;49m\u001b[43m,\u001b[49m\u001b[43m \u001b[49m\u001b[33;43m'\u001b[39;49m\u001b[33;43mtitle\u001b[39;49m\u001b[33;43m'\u001b[39;49m\u001b[43m,\u001b[49m\u001b[43m \u001b[49m\u001b[33;43m'\u001b[39;49m\u001b[33;43mstart\u001b[39;49m\u001b[33;43m'\u001b[39;49m\u001b[43m,\u001b[49m\u001b[43m \u001b[49m\u001b[33;43m'\u001b[39;49m\u001b[33;43mend\u001b[39;49m\u001b[33;43m'\u001b[39;49m\u001b[43m,\u001b[49m\u001b[43m \u001b[49m\u001b[33;43m'\u001b[39;49m\u001b[33;43mtype\u001b[39;49m\u001b[33;43m'\u001b[39;49m\n\u001b[32m      3\u001b[39m \u001b[43m]\u001b[49m\u001b[43m]\u001b[49m\n",
      "\u001b[36mFile \u001b[39m\u001b[32me:\\Assessment_Data\\.venv\\Lib\\site-packages\\pandas\\core\\frame.py:4113\u001b[39m, in \u001b[36mDataFrame.__getitem__\u001b[39m\u001b[34m(self, key)\u001b[39m\n\u001b[32m   4111\u001b[39m     \u001b[38;5;28;01mif\u001b[39;00m is_iterator(key):\n\u001b[32m   4112\u001b[39m         key = \u001b[38;5;28mlist\u001b[39m(key)\n\u001b[32m-> \u001b[39m\u001b[32m4113\u001b[39m     indexer = \u001b[38;5;28;43mself\u001b[39;49m\u001b[43m.\u001b[49m\u001b[43mcolumns\u001b[49m\u001b[43m.\u001b[49m\u001b[43m_get_indexer_strict\u001b[49m\u001b[43m(\u001b[49m\u001b[43mkey\u001b[49m\u001b[43m,\u001b[49m\u001b[43m \u001b[49m\u001b[33;43m\"\u001b[39;49m\u001b[33;43mcolumns\u001b[39;49m\u001b[33;43m\"\u001b[39;49m\u001b[43m)\u001b[49m[\u001b[32m1\u001b[39m]\n\u001b[32m   4115\u001b[39m \u001b[38;5;66;03m# take() does not accept boolean indexers\u001b[39;00m\n\u001b[32m   4116\u001b[39m \u001b[38;5;28;01mif\u001b[39;00m \u001b[38;5;28mgetattr\u001b[39m(indexer, \u001b[33m\"\u001b[39m\u001b[33mdtype\u001b[39m\u001b[33m\"\u001b[39m, \u001b[38;5;28;01mNone\u001b[39;00m) == \u001b[38;5;28mbool\u001b[39m:\n",
      "\u001b[36mFile \u001b[39m\u001b[32me:\\Assessment_Data\\.venv\\Lib\\site-packages\\pandas\\core\\indexes\\base.py:6212\u001b[39m, in \u001b[36mIndex._get_indexer_strict\u001b[39m\u001b[34m(self, key, axis_name)\u001b[39m\n\u001b[32m   6209\u001b[39m \u001b[38;5;28;01melse\u001b[39;00m:\n\u001b[32m   6210\u001b[39m     keyarr, indexer, new_indexer = \u001b[38;5;28mself\u001b[39m._reindex_non_unique(keyarr)\n\u001b[32m-> \u001b[39m\u001b[32m6212\u001b[39m \u001b[38;5;28;43mself\u001b[39;49m\u001b[43m.\u001b[49m\u001b[43m_raise_if_missing\u001b[49m\u001b[43m(\u001b[49m\u001b[43mkeyarr\u001b[49m\u001b[43m,\u001b[49m\u001b[43m \u001b[49m\u001b[43mindexer\u001b[49m\u001b[43m,\u001b[49m\u001b[43m \u001b[49m\u001b[43maxis_name\u001b[49m\u001b[43m)\u001b[49m\n\u001b[32m   6214\u001b[39m keyarr = \u001b[38;5;28mself\u001b[39m.take(indexer)\n\u001b[32m   6215\u001b[39m \u001b[38;5;28;01mif\u001b[39;00m \u001b[38;5;28misinstance\u001b[39m(key, Index):\n\u001b[32m   6216\u001b[39m     \u001b[38;5;66;03m# GH 42790 - Preserve name from an Index\u001b[39;00m\n",
      "\u001b[36mFile \u001b[39m\u001b[32me:\\Assessment_Data\\.venv\\Lib\\site-packages\\pandas\\core\\indexes\\base.py:6261\u001b[39m, in \u001b[36mIndex._raise_if_missing\u001b[39m\u001b[34m(self, key, indexer, axis_name)\u001b[39m\n\u001b[32m   6259\u001b[39m \u001b[38;5;28;01mif\u001b[39;00m nmissing:\n\u001b[32m   6260\u001b[39m     \u001b[38;5;28;01mif\u001b[39;00m nmissing == \u001b[38;5;28mlen\u001b[39m(indexer):\n\u001b[32m-> \u001b[39m\u001b[32m6261\u001b[39m         \u001b[38;5;28;01mraise\u001b[39;00m \u001b[38;5;167;01mKeyError\u001b[39;00m(\u001b[33mf\u001b[39m\u001b[33m\"\u001b[39m\u001b[33mNone of [\u001b[39m\u001b[38;5;132;01m{\u001b[39;00mkey\u001b[38;5;132;01m}\u001b[39;00m\u001b[33m] are in the [\u001b[39m\u001b[38;5;132;01m{\u001b[39;00maxis_name\u001b[38;5;132;01m}\u001b[39;00m\u001b[33m]\u001b[39m\u001b[33m\"\u001b[39m)\n\u001b[32m   6263\u001b[39m     not_found = \u001b[38;5;28mlist\u001b[39m(ensure_index(key)[missing_mask.nonzero()[\u001b[32m0\u001b[39m]].unique())\n\u001b[32m   6264\u001b[39m     \u001b[38;5;28;01mraise\u001b[39;00m \u001b[38;5;167;01mKeyError\u001b[39;00m(\u001b[33mf\u001b[39m\u001b[33m\"\u001b[39m\u001b[38;5;132;01m{\u001b[39;00mnot_found\u001b[38;5;132;01m}\u001b[39;00m\u001b[33m not in index\u001b[39m\u001b[33m\"\u001b[39m)\n",
      "\u001b[31mKeyError\u001b[39m: \"None of [Index(['id', 'title', 'start', 'end', 'type'], dtype='object')] are in the [columns]\""
     ]
    }
   ],
   "source": [
    "care_reception = care_reception[[\n",
    "    'id', 'title', 'start', 'end', 'type'\n",
    "]]"
   ]
  },
  {
   "cell_type": "code",
   "execution_count": 26,
   "id": "71484ff1",
   "metadata": {},
   "outputs": [
    {
     "name": "stdout",
     "output_type": "stream",
     "text": [
      "     id                    title                             start  \\\n",
      "0  1286                  WALKINS  2024-10-21 05:53:32.449000+00:00   \n",
      "1  1269                     Test         2024-10-21 05:00:00+00:00   \n",
      "2  1287                  WALKINS  2024-10-21 06:02:20.519000+00:00   \n",
      "3  1307  Video call consultation         2024-10-21 09:00:00+00:00   \n",
      "4  1308  Video call consultation         2024-10-21 09:10:00+00:00   \n",
      "5  1309  Video call consultation         2024-10-21 09:20:00+00:00   \n",
      "6  1310  Video call consultation         2024-10-21 09:30:00+00:00   \n",
      "7  1311  Video call consultation         2024-10-21 09:40:00+00:00   \n",
      "8  1312  Video call consultation         2024-10-21 09:50:00+00:00   \n",
      "9  1318                     Test         2024-10-21 08:00:00+00:00   \n",
      "\n",
      "                                end                      until  \\\n",
      "0  2024-10-21 06:22:32.449000+00:00                        NaN   \n",
      "1         2024-10-21 05:15:00+00:00                        NaN   \n",
      "2  2024-10-21 06:32:20.519000+00:00                        NaN   \n",
      "3         2024-10-21 09:10:00+00:00  2024-11-29 09:00:00+00:00   \n",
      "4         2024-10-21 09:20:00+00:00  2024-11-29 09:10:00+00:00   \n",
      "5         2024-10-21 09:30:00+00:00  2024-11-29 09:20:00+00:00   \n",
      "6         2024-10-21 09:40:00+00:00  2024-11-29 09:30:00+00:00   \n",
      "7         2024-10-21 09:50:00+00:00  2024-11-29 09:40:00+00:00   \n",
      "8         2024-10-21 10:00:00+00:00  2024-11-29 09:50:00+00:00   \n",
      "9         2024-10-21 08:15:00+00:00                        NaN   \n",
      "\n",
      "                                     recurrence  recurrence_event_id  type  \\\n",
      "0                                           NaN                    0     7   \n",
      "1                                           NaN                 1229     3   \n",
      "2                                           NaN                    0     7   \n",
      "3  FREQ=DAILY;UNTIL=20241130T043000Z;INTERVAL=1                    0     2   \n",
      "4  FREQ=DAILY;UNTIL=20241130T043000Z;INTERVAL=1                    0     2   \n",
      "5  FREQ=DAILY;UNTIL=20241130T043000Z;INTERVAL=1                    0     2   \n",
      "6  FREQ=DAILY;UNTIL=20241130T043000Z;INTERVAL=1                    0     2   \n",
      "7  FREQ=DAILY;UNTIL=20241130T043000Z;INTERVAL=1                    0     2   \n",
      "8  FREQ=DAILY;UNTIL=20241130T043000Z;INTERVAL=1                    0     2   \n",
      "9                                           NaN                 1241     3   \n",
      "\n",
      "   status  maximum_attendee_capacity  ...  tenant_id  \\\n",
      "0       1                          1  ...          6   \n",
      "1       2                          1  ...          6   \n",
      "2       1                          1  ...          4   \n",
      "3       1                          1  ...          4   \n",
      "4       1                          1  ...          4   \n",
      "5       1                          1  ...          4   \n",
      "6       1                          1  ...          4   \n",
      "7       1                          1  ...          4   \n",
      "8       1                          1  ...          4   \n",
      "9       1                          1  ...          6   \n",
      "\n",
      "                  occurrence  meeting_response facility_id updated_by  \\\n",
      "0                        NaN               NaN           0         33   \n",
      "1  2024-10-21 05:00:00+00:00               NaN           6         33   \n",
      "2                        NaN               NaN           0         30   \n",
      "3                        NaN               NaN           0          0   \n",
      "4                        NaN               NaN           0          0   \n",
      "5                        NaN               NaN           0          0   \n",
      "6                        NaN               NaN           0          0   \n",
      "7                        NaN               NaN           0          0   \n",
      "8                        NaN               NaN           0          0   \n",
      "9  2024-10-21 08:00:00+00:00               NaN           6         33   \n",
      "\n",
      "                         updated_at  visit_type encounter_type  is_reserved  \\\n",
      "0  2024-10-21 05:52:33.567083+00:00           2              1        False   \n",
      "1  2024-10-21 04:43:18.955169+00:00           2              1          NaN   \n",
      "2  2024-10-21 06:01:25.041329+00:00           2              1        False   \n",
      "3                               NaN           2              6          NaN   \n",
      "4                               NaN           2              6          NaN   \n",
      "5                               NaN           2              6          NaN   \n",
      "6                               NaN           2              6          NaN   \n",
      "7                               NaN           2              6          NaN   \n",
      "8                               NaN           2              6          NaN   \n",
      "9  2024-10-21 07:45:13.535687+00:00           2              1          NaN   \n",
      "\n",
      "   description  \n",
      "0          NaN  \n",
      "1          NaN  \n",
      "2          NaN  \n",
      "3          NaN  \n",
      "4          NaN  \n",
      "5          NaN  \n",
      "6          NaN  \n",
      "7          NaN  \n",
      "8          NaN  \n",
      "9          NaN  \n",
      "\n",
      "[10 rows x 22 columns]\n"
     ]
    }
   ],
   "source": [
    "print(event.head(10))"
   ]
  },
  {
   "cell_type": "code",
   "execution_count": 27,
   "id": "3fef85ed",
   "metadata": {},
   "outputs": [
    {
     "name": "stdout",
     "output_type": "stream",
     "text": [
      "     id  event_id  created_by                        created_at  updated_by  \\\n",
      "0  2688      2154         139  2024-10-22 12:24:03.052994+00:00         NaN   \n",
      "1  1609      1257          33  2024-10-21 04:28:27.377719+00:00         NaN   \n",
      "2  1552      1200          33  2024-10-21 04:27:40.261247+00:00         NaN   \n",
      "3  1553      1201          33  2024-10-21 04:27:40.400597+00:00         NaN   \n",
      "4  1554      1202          33  2024-10-21 04:27:40.433044+00:00         NaN   \n",
      "5  1555      1203          33  2024-10-21 04:27:40.481896+00:00         NaN   \n",
      "6  1556      1204          33  2024-10-21 04:27:40.545213+00:00         NaN   \n",
      "7  1557      1205          33  2024-10-21 04:27:40.680962+00:00         NaN   \n",
      "8  1558      1206          33  2024-10-21 04:27:40.721584+00:00         NaN   \n",
      "9  1559      1207          33  2024-10-21 04:27:40.772617+00:00         NaN   \n",
      "\n",
      "  updated_at  \n",
      "0        NaN  \n",
      "1        NaN  \n",
      "2        NaN  \n",
      "3        NaN  \n",
      "4        NaN  \n",
      "5        NaN  \n",
      "6        NaN  \n",
      "7        NaN  \n",
      "8        NaN  \n",
      "9        NaN  \n"
     ]
    }
   ],
   "source": [
    "print(participation.head(10))"
   ]
  }
 ],
 "metadata": {
  "kernelspec": {
   "display_name": ".venv",
   "language": "python",
   "name": "python3"
  },
  "language_info": {
   "codemirror_mode": {
    "name": "ipython",
    "version": 3
   },
   "file_extension": ".py",
   "mimetype": "text/x-python",
   "name": "python",
   "nbconvert_exporter": "python",
   "pygments_lexer": "ipython3",
   "version": "3.11.9"
  }
 },
 "nbformat": 4,
 "nbformat_minor": 5
}
