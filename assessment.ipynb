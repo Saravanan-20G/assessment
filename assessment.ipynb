{
 "cells": [
  {
   "cell_type": "markdown",
   "id": "bcc3a21b",
   "metadata": {},
   "source": [
    "OneData Assessment "
   ]
  },
  {
   "cell_type": "markdown",
   "id": "cccf1d58",
   "metadata": {},
   "source": [
    "Task 1: Upload Data to MinIO"
   ]
  },
  {
   "cell_type": "code",
   "execution_count": null,
   "id": "ae204667",
   "metadata": {},
   "outputs": [],
   "source": [
    "import boto3\n",
    "from botocore.client import Config\n",
    "from botocore.exceptions import ClientError\n",
    "\n",
    "\n",
    "s3 = boto3.client(\n",
    "    's3',\n",
    "    endpoint_url='http://127.0.0.1:9000',\n",
    "    aws_access_key_id='minioadmin',\n",
    "    aws_secret_access_key='minioadmin',\n",
    "    config=Config(signature_version='s3v4'),\n",
    "    region_name='us-east-1'\n",
    ")\n",
    "\n",
    "bucket_name = \"my-bucket\"\n",
    "\n",
    "\n",
    "try:\n",
    "    s3.head_bucket(Bucket=bucket_name)\n",
    "    print(\"✅ Bucket already exists\")\n",
    "except ClientError:\n",
    "    s3.create_bucket(Bucket=bucket_name)\n",
    "    print(\"✅ Bucket created\")\n",
    "\n",
    "\n",
    "files = [\n",
    "    r\"E:\\Assessment_Data\\care_reception.csv\",\n",
    "    r\"E:\\Assessment_Data\\event.csv\",\n",
    "    r\"E:\\Assessment_Data\\participation.csv\",\n",
    "    r\"E:\\Assessment_Data\\patients.csv\"\n",
    "]\n",
    "\n",
    "\n",
    "for file_path in files:\n",
    "    file_name = file_path.split(\"\\\\\")[-1]  \n",
    "    object_name = f\"raw/assessment/{file_name}\"\n",
    "    s3.upload_file(file_path, bucket_name, object_name)\n",
    "    print(f\"✅ Uploaded {file_name} to {object_name}\")\n"
   ]
  },
  {
   "cell_type": "markdown",
   "id": "d7a7fbef",
   "metadata": {},
   "source": [
    "Task 2: Analyze and Map All Data into One Table"
   ]
  },
  {
   "cell_type": "code",
   "execution_count": 5,
   "id": "9038cad3",
   "metadata": {},
   "outputs": [],
   "source": [
    "import pandas as pd"
   ]
  },
  {
   "cell_type": "code",
   "execution_count": 6,
   "id": "59dd78be",
   "metadata": {},
   "outputs": [],
   "source": [
    "\n",
    "patients = pd.read_csv(\"E:/Assessment_Data/patients.csv\")\n",
    "care_reception = pd.read_csv(\"E:/Assessment_Data/care_reception.csv\")\n",
    "event = pd.read_csv(\"E:/Assessment_Data/event.csv\")\n",
    "participation = pd.read_csv(\"E:/Assessment_Data/participation.csv\")\n"
   ]
  },
  {
   "cell_type": "code",
   "execution_count": 7,
   "id": "07057936",
   "metadata": {},
   "outputs": [
    {
     "name": "stdout",
     "output_type": "stream",
     "text": [
      "   Unnamed: 0   id first_name  last_name  gender  organization_id  \\\n",
      "0           0  145        Raj      kumar    MALE                1   \n",
      "1           1  146      Barry   Martinez    MALE                1   \n",
      "2           2  147     Janice  Castaneda    MALE                1   \n",
      "3           3  148    Rebecca       Tran  FEMALE                1   \n",
      "4           4  149     Jeremy       Ward    MALE                1   \n",
      "5           5  150     Justin     Foster     NaN                1   \n",
      "6           6  151     Dinesh      kumar    MALE                1   \n",
      "7           7  152     Steven     Guerra     NaN                1   \n",
      "8           8  153   Kimberly      Smith  FEMALE                1   \n",
      "9           9  154    Valerie     Larson  FEMALE                1   \n",
      "\n",
      "                         created_at  created_by  status_id  language_id  \\\n",
      "0  2024-10-21 11:13:19.200878+00:00         139          2            1   \n",
      "1  2024-10-21 11:44:27.982926+00:00         139          2            1   \n",
      "2  2024-10-21 11:47:43.460770+00:00         139          2            1   \n",
      "3  2024-10-21 11:53:13.773876+00:00         139          2            1   \n",
      "4  2024-10-21 11:55:30.445362+00:00         139          2            1   \n",
      "5  2024-10-21 11:59:04.315879+00:00         139          2            1   \n",
      "6  2024-10-21 12:01:29.496123+00:00         139          2            1   \n",
      "7  2024-10-21 12:05:12.792229+00:00         139          2            1   \n",
      "8  2024-10-21 12:06:30.912623+00:00         139          2            1   \n",
      "9  2024-10-21 12:10:01.321341+00:00         139          2            1   \n",
      "\n",
      "  date_of_birth email external_id organ_donner blood_donner email.1  \\\n",
      "0    1987-02-02   NaN         NaN        False        False     NaN   \n",
      "1    1990-01-10   NaN         NaN        False        False     NaN   \n",
      "2    1998-07-16   NaN         NaN        False        False     NaN   \n",
      "3    2000-02-23   NaN         NaN        False        False     NaN   \n",
      "4    1990-01-02   NaN         NaN         True         True     NaN   \n",
      "5    1999-07-18   NaN         NaN        False        False     NaN   \n",
      "6    1980-01-03   NaN         NaN         True         True     NaN   \n",
      "7    1975-10-11   NaN         NaN        False        False     NaN   \n",
      "8    2000-07-07   NaN         NaN        False         True     NaN   \n",
      "9    1995-08-15   NaN         NaN        False        False     NaN   \n",
      "\n",
      "            phone  marital_status  updated_by  \\\n",
      "0   91 9894336789             1.0         NaN   \n",
      "1   91 9876543210             1.0         NaN   \n",
      "2  +91 9876566815             0.0       139.0   \n",
      "3   91 9123456780             0.0         NaN   \n",
      "4   91 7108355642             1.0         NaN   \n",
      "5   91 8053694105             0.0         NaN   \n",
      "6   91 7108355649             1.0         NaN   \n",
      "7   91 9876566915             0.0         NaN   \n",
      "8   91 8843231114             1.0         NaN   \n",
      "9   91 9998887772             1.0         NaN   \n",
      "\n",
      "                         updated_at  \n",
      "0                               NaN  \n",
      "1                               NaN  \n",
      "2  2024-10-21 12:07:35.551796+00:00  \n",
      "3                               NaN  \n",
      "4                               NaN  \n",
      "5                               NaN  \n",
      "6                               NaN  \n",
      "7                               NaN  \n",
      "8                               NaN  \n",
      "9                               NaN  \n"
     ]
    }
   ],
   "source": [
    "print(patients.head(10))"
   ]
  },
  {
   "cell_type": "code",
   "execution_count": 8,
   "id": "42c5c4f6",
   "metadata": {},
   "outputs": [],
   "source": [
    "patients['Full_Name'] = patients['first_name'] + ' ' + patients['last_name']\n"
   ]
  },
  {
   "cell_type": "code",
   "execution_count": 9,
   "id": "0135575f",
   "metadata": {},
   "outputs": [],
   "source": [
    "patients = patients[[\n",
    "    'id', 'first_name', 'last_name', 'gender', 'date_of_birth', \n",
    "    'email', 'phone', 'marital_status', 'Full_Name'\n",
    "]]"
   ]
  },
  {
   "cell_type": "code",
   "execution_count": null,
   "id": "39711fa4",
   "metadata": {},
   "outputs": [],
   "source": [
    "patients=patients.duplicated()"
   ]
  },
  {
   "cell_type": "code",
   "execution_count": 10,
   "id": "37034409",
   "metadata": {},
   "outputs": [
    {
     "name": "stdout",
     "output_type": "stream",
     "text": [
      "        id first_name   last_name  gender date_of_birth  \\\n",
      "0      145        Raj       kumar    MALE    1987-02-02   \n",
      "1      146      Barry    Martinez    MALE    1990-01-10   \n",
      "2      147     Janice   Castaneda    MALE    1998-07-16   \n",
      "3      148    Rebecca        Tran  FEMALE    2000-02-23   \n",
      "4      149     Jeremy        Ward    MALE    1990-01-02   \n",
      "...    ...        ...         ...     ...           ...   \n",
      "3550  2554        vbn         vnb     NaN           NaN   \n",
      "3551  2559      Selva          ss     NaN           NaN   \n",
      "3552  2564      Sudha          MA  FEMALE    1996-12-22   \n",
      "3553  2566      Nuzha  MeeraLebbe     NaN    1999-11-20   \n",
      "3554  2567      Anaas     Mohamed    MALE    1998-11-20   \n",
      "\n",
      "                       email           phone  marital_status         Full_Name  \n",
      "0                        NaN   91 9894336789             1.0         Raj kumar  \n",
      "1                        NaN   91 9876543210             1.0    Barry Martinez  \n",
      "2                        NaN  +91 9876566815             0.0  Janice Castaneda  \n",
      "3                        NaN   91 9123456780             0.0      Rebecca Tran  \n",
      "4                        NaN   91 7108355642             1.0       Jeremy Ward  \n",
      "...                      ...             ...             ...               ...  \n",
      "3550     nuzha0518@gmail.com   94 0763845000             NaN           vbn vnb  \n",
      "3551                     NaN   91 6876567890             0.0          Selva ss  \n",
      "3552   sudhama0518@gmail.com   94 0715324625             1.0          Sudha MA  \n",
      "3553       nuzha12@gmail.com   94 0763845455             0.0  Nuzha MeeraLebbe  \n",
      "3554  nuzhalebbe99@gmail.com   94 0775403881             1.0     Anaas Mohamed  \n",
      "\n",
      "[3555 rows x 9 columns]\n"
     ]
    }
   ],
   "source": [
    "print(patients)"
   ]
  },
  {
   "cell_type": "code",
   "execution_count": 11,
   "id": "c2c785b5",
   "metadata": {},
   "outputs": [],
   "source": [
    "patients['email'] = patients['email'].fillna('Unknown')\n",
    "patients['phone'] = patients['phone'].fillna('Unknown')\n",
    "patients['gender'] = patients['gender'].fillna('Unknown')\n"
   ]
  },
  {
   "cell_type": "code",
   "execution_count": 12,
   "id": "2e84ad2b",
   "metadata": {},
   "outputs": [
    {
     "name": "stdout",
     "output_type": "stream",
     "text": [
      "        id first_name   last_name   gender date_of_birth  \\\n",
      "0      145        Raj       kumar     MALE    1987-02-02   \n",
      "1      146      Barry    Martinez     MALE    1990-01-10   \n",
      "2      147     Janice   Castaneda     MALE    1998-07-16   \n",
      "3      148    Rebecca        Tran   FEMALE    2000-02-23   \n",
      "4      149     Jeremy        Ward     MALE    1990-01-02   \n",
      "...    ...        ...         ...      ...           ...   \n",
      "3550  2554        vbn         vnb  Unknown           NaN   \n",
      "3551  2559      Selva          ss  Unknown           NaN   \n",
      "3552  2564      Sudha          MA   FEMALE    1996-12-22   \n",
      "3553  2566      Nuzha  MeeraLebbe  Unknown    1999-11-20   \n",
      "3554  2567      Anaas     Mohamed     MALE    1998-11-20   \n",
      "\n",
      "                       email           phone  marital_status         Full_Name  \n",
      "0                    Unknown   91 9894336789             1.0         Raj kumar  \n",
      "1                    Unknown   91 9876543210             1.0    Barry Martinez  \n",
      "2                    Unknown  +91 9876566815             0.0  Janice Castaneda  \n",
      "3                    Unknown   91 9123456780             0.0      Rebecca Tran  \n",
      "4                    Unknown   91 7108355642             1.0       Jeremy Ward  \n",
      "...                      ...             ...             ...               ...  \n",
      "3550     nuzha0518@gmail.com   94 0763845000             NaN           vbn vnb  \n",
      "3551                 Unknown   91 6876567890             0.0          Selva ss  \n",
      "3552   sudhama0518@gmail.com   94 0715324625             1.0          Sudha MA  \n",
      "3553       nuzha12@gmail.com   94 0763845455             0.0  Nuzha MeeraLebbe  \n",
      "3554  nuzhalebbe99@gmail.com   94 0775403881             1.0     Anaas Mohamed  \n",
      "\n",
      "[3555 rows x 9 columns]\n"
     ]
    }
   ],
   "source": [
    "print(patients)"
   ]
  },
  {
   "cell_type": "code",
   "execution_count": 13,
   "id": "3f1698a6",
   "metadata": {},
   "outputs": [
    {
     "name": "stdout",
     "output_type": "stream",
     "text": [
      "   participation_id  patient_id  unregistered_user_id  address_id message  \\\n",
      "0               578        38.0                   NaN         NaN     NaN   \n",
      "1                72        37.0                   NaN         NaN     NaN   \n",
      "2               509        56.0                   NaN         NaN     NaN   \n",
      "3                73        37.0                   NaN         NaN     NaN   \n",
      "4                74        37.0                   NaN         NaN     NaN   \n",
      "5                75        38.0                   NaN         NaN     NaN   \n",
      "6               512        41.0                   NaN         NaN     NaN   \n",
      "7                76        38.0                   NaN         NaN     NaN   \n",
      "8                95        38.0                   NaN         NaN     NaN   \n",
      "9               100        42.0                   NaN         NaN     NaN   \n",
      "\n",
      "   status  meeting_status patient_attendant_name  \\\n",
      "0       1           False                    NaN   \n",
      "1       3           False                    NaN   \n",
      "2       1           False                    NaN   \n",
      "3       3           False                    NaN   \n",
      "4       3           False                    NaN   \n",
      "5       1           False                    NaN   \n",
      "6       1           False                    NaN   \n",
      "7       3           False                    NaN   \n",
      "8       3           False                    NaN   \n",
      "9       1           False                    NaN   \n",
      "\n",
      "  patient_attendant_phone_number cancellation_reason  \n",
      "0                            NaN                 NaN  \n",
      "1                            NaN                 NaN  \n",
      "2                            NaN                 NaN  \n",
      "3                            NaN                 NaN  \n",
      "4                            NaN                 NaN  \n",
      "5                            NaN                 NaN  \n",
      "6                            NaN                 NaN  \n",
      "7                            NaN                 NaN  \n",
      "8                            NaN                 NaN  \n",
      "9                            NaN                 NaN  \n"
     ]
    }
   ],
   "source": [
    "print(care_reception.head(10))"
   ]
  },
  {
   "cell_type": "code",
   "execution_count": 14,
   "id": "948f9432",
   "metadata": {},
   "outputs": [],
   "source": [
    "care_reception = care_reception[['participation_id', \n",
    "    'patient_id', \n",
    "    'unregistered_user_id', \n",
    "    'status', \n",
    "    'meeting_status']]"
   ]
  },
  {
   "cell_type": "code",
   "execution_count": 15,
   "id": "4508d100",
   "metadata": {},
   "outputs": [
    {
     "name": "stdout",
     "output_type": "stream",
     "text": [
      "   participation_id  patient_id  unregistered_user_id  status  meeting_status\n",
      "0               578        38.0                   NaN       1           False\n",
      "1                72        37.0                   NaN       3           False\n",
      "2               509        56.0                   NaN       1           False\n",
      "3                73        37.0                   NaN       3           False\n",
      "4                74        37.0                   NaN       3           False\n",
      "5                75        38.0                   NaN       1           False\n",
      "6               512        41.0                   NaN       1           False\n",
      "7                76        38.0                   NaN       3           False\n",
      "8                95        38.0                   NaN       3           False\n",
      "9               100        42.0                   NaN       1           False\n"
     ]
    }
   ],
   "source": [
    "print(care_reception.head(10))"
   ]
  },
  {
   "cell_type": "code",
   "execution_count": 16,
   "id": "3fef85ed",
   "metadata": {},
   "outputs": [
    {
     "name": "stdout",
     "output_type": "stream",
     "text": [
      "     id  event_id  created_by                        created_at  updated_by  \\\n",
      "0  2688      2154         139  2024-10-22 12:24:03.052994+00:00         NaN   \n",
      "1  1609      1257          33  2024-10-21 04:28:27.377719+00:00         NaN   \n",
      "2  1552      1200          33  2024-10-21 04:27:40.261247+00:00         NaN   \n",
      "3  1553      1201          33  2024-10-21 04:27:40.400597+00:00         NaN   \n",
      "4  1554      1202          33  2024-10-21 04:27:40.433044+00:00         NaN   \n",
      "5  1555      1203          33  2024-10-21 04:27:40.481896+00:00         NaN   \n",
      "6  1556      1204          33  2024-10-21 04:27:40.545213+00:00         NaN   \n",
      "7  1557      1205          33  2024-10-21 04:27:40.680962+00:00         NaN   \n",
      "8  1558      1206          33  2024-10-21 04:27:40.721584+00:00         NaN   \n",
      "9  1559      1207          33  2024-10-21 04:27:40.772617+00:00         NaN   \n",
      "\n",
      "  updated_at  \n",
      "0        NaN  \n",
      "1        NaN  \n",
      "2        NaN  \n",
      "3        NaN  \n",
      "4        NaN  \n",
      "5        NaN  \n",
      "6        NaN  \n",
      "7        NaN  \n",
      "8        NaN  \n",
      "9        NaN  \n"
     ]
    }
   ],
   "source": [
    "print(participation.head(10))"
   ]
  },
  {
   "cell_type": "code",
   "execution_count": 17,
   "id": "f5564be3",
   "metadata": {},
   "outputs": [],
   "source": [
    "participation = participation[[  'id', 'event_id', 'created_by', 'created_at'\n",
    "]]"
   ]
  },
  {
   "cell_type": "code",
   "execution_count": 18,
   "id": "304cb687",
   "metadata": {},
   "outputs": [
    {
     "name": "stdout",
     "output_type": "stream",
     "text": [
      "     id  event_id  created_by                        created_at\n",
      "0  2688      2154         139  2024-10-22 12:24:03.052994+00:00\n",
      "1  1609      1257          33  2024-10-21 04:28:27.377719+00:00\n",
      "2  1552      1200          33  2024-10-21 04:27:40.261247+00:00\n",
      "3  1553      1201          33  2024-10-21 04:27:40.400597+00:00\n",
      "4  1554      1202          33  2024-10-21 04:27:40.433044+00:00\n",
      "5  1555      1203          33  2024-10-21 04:27:40.481896+00:00\n",
      "6  1556      1204          33  2024-10-21 04:27:40.545213+00:00\n",
      "7  1557      1205          33  2024-10-21 04:27:40.680962+00:00\n",
      "8  1558      1206          33  2024-10-21 04:27:40.721584+00:00\n",
      "9  1559      1207          33  2024-10-21 04:27:40.772617+00:00\n"
     ]
    }
   ],
   "source": [
    "print(participation.head(10))"
   ]
  },
  {
   "cell_type": "code",
   "execution_count": 19,
   "id": "b78a37d4",
   "metadata": {},
   "outputs": [
    {
     "name": "stdout",
     "output_type": "stream",
     "text": [
      "     id                    title                             start  \\\n",
      "0  1286                  WALKINS  2024-10-21 05:53:32.449000+00:00   \n",
      "1  1269                     Test         2024-10-21 05:00:00+00:00   \n",
      "2  1287                  WALKINS  2024-10-21 06:02:20.519000+00:00   \n",
      "3  1307  Video call consultation         2024-10-21 09:00:00+00:00   \n",
      "4  1308  Video call consultation         2024-10-21 09:10:00+00:00   \n",
      "5  1309  Video call consultation         2024-10-21 09:20:00+00:00   \n",
      "6  1310  Video call consultation         2024-10-21 09:30:00+00:00   \n",
      "7  1311  Video call consultation         2024-10-21 09:40:00+00:00   \n",
      "8  1312  Video call consultation         2024-10-21 09:50:00+00:00   \n",
      "9  1318                     Test         2024-10-21 08:00:00+00:00   \n",
      "\n",
      "                                end                      until  \\\n",
      "0  2024-10-21 06:22:32.449000+00:00                        NaN   \n",
      "1         2024-10-21 05:15:00+00:00                        NaN   \n",
      "2  2024-10-21 06:32:20.519000+00:00                        NaN   \n",
      "3         2024-10-21 09:10:00+00:00  2024-11-29 09:00:00+00:00   \n",
      "4         2024-10-21 09:20:00+00:00  2024-11-29 09:10:00+00:00   \n",
      "5         2024-10-21 09:30:00+00:00  2024-11-29 09:20:00+00:00   \n",
      "6         2024-10-21 09:40:00+00:00  2024-11-29 09:30:00+00:00   \n",
      "7         2024-10-21 09:50:00+00:00  2024-11-29 09:40:00+00:00   \n",
      "8         2024-10-21 10:00:00+00:00  2024-11-29 09:50:00+00:00   \n",
      "9         2024-10-21 08:15:00+00:00                        NaN   \n",
      "\n",
      "                                     recurrence  recurrence_event_id  type  \\\n",
      "0                                           NaN                    0     7   \n",
      "1                                           NaN                 1229     3   \n",
      "2                                           NaN                    0     7   \n",
      "3  FREQ=DAILY;UNTIL=20241130T043000Z;INTERVAL=1                    0     2   \n",
      "4  FREQ=DAILY;UNTIL=20241130T043000Z;INTERVAL=1                    0     2   \n",
      "5  FREQ=DAILY;UNTIL=20241130T043000Z;INTERVAL=1                    0     2   \n",
      "6  FREQ=DAILY;UNTIL=20241130T043000Z;INTERVAL=1                    0     2   \n",
      "7  FREQ=DAILY;UNTIL=20241130T043000Z;INTERVAL=1                    0     2   \n",
      "8  FREQ=DAILY;UNTIL=20241130T043000Z;INTERVAL=1                    0     2   \n",
      "9                                           NaN                 1241     3   \n",
      "\n",
      "   status  maximum_attendee_capacity  ...  tenant_id  \\\n",
      "0       1                          1  ...          6   \n",
      "1       2                          1  ...          6   \n",
      "2       1                          1  ...          4   \n",
      "3       1                          1  ...          4   \n",
      "4       1                          1  ...          4   \n",
      "5       1                          1  ...          4   \n",
      "6       1                          1  ...          4   \n",
      "7       1                          1  ...          4   \n",
      "8       1                          1  ...          4   \n",
      "9       1                          1  ...          6   \n",
      "\n",
      "                  occurrence  meeting_response facility_id updated_by  \\\n",
      "0                        NaN               NaN           0         33   \n",
      "1  2024-10-21 05:00:00+00:00               NaN           6         33   \n",
      "2                        NaN               NaN           0         30   \n",
      "3                        NaN               NaN           0          0   \n",
      "4                        NaN               NaN           0          0   \n",
      "5                        NaN               NaN           0          0   \n",
      "6                        NaN               NaN           0          0   \n",
      "7                        NaN               NaN           0          0   \n",
      "8                        NaN               NaN           0          0   \n",
      "9  2024-10-21 08:00:00+00:00               NaN           6         33   \n",
      "\n",
      "                         updated_at  visit_type encounter_type  is_reserved  \\\n",
      "0  2024-10-21 05:52:33.567083+00:00           2              1        False   \n",
      "1  2024-10-21 04:43:18.955169+00:00           2              1          NaN   \n",
      "2  2024-10-21 06:01:25.041329+00:00           2              1        False   \n",
      "3                               NaN           2              6          NaN   \n",
      "4                               NaN           2              6          NaN   \n",
      "5                               NaN           2              6          NaN   \n",
      "6                               NaN           2              6          NaN   \n",
      "7                               NaN           2              6          NaN   \n",
      "8                               NaN           2              6          NaN   \n",
      "9  2024-10-21 07:45:13.535687+00:00           2              1          NaN   \n",
      "\n",
      "   description  \n",
      "0          NaN  \n",
      "1          NaN  \n",
      "2          NaN  \n",
      "3          NaN  \n",
      "4          NaN  \n",
      "5          NaN  \n",
      "6          NaN  \n",
      "7          NaN  \n",
      "8          NaN  \n",
      "9          NaN  \n",
      "\n",
      "[10 rows x 22 columns]\n"
     ]
    }
   ],
   "source": [
    "print(event.head(10))"
   ]
  },
  {
   "cell_type": "code",
   "execution_count": 20,
   "id": "13620ab2",
   "metadata": {},
   "outputs": [],
   "source": [
    "\n",
    "event.columns = event.columns.str.strip()\n"
   ]
  },
  {
   "cell_type": "code",
   "execution_count": 21,
   "id": "421047cd",
   "metadata": {},
   "outputs": [],
   "source": [
    "event = event[['id', 'title', 'start', 'end', 'until']]"
   ]
  },
  {
   "cell_type": "code",
   "execution_count": 22,
   "id": "582c9fb4",
   "metadata": {},
   "outputs": [],
   "source": [
    "event['until']= event['until'].fillna('unknown')"
   ]
  },
  {
   "cell_type": "code",
   "execution_count": 23,
   "id": "55762f42",
   "metadata": {},
   "outputs": [
    {
     "name": "stderr",
     "output_type": "stream",
     "text": [
      "C:\\Users\\Saravanan\\AppData\\Local\\Temp\\ipykernel_20452\\3435083340.py:3: UserWarning: Could not infer format, so each element will be parsed individually, falling back to `dateutil`. To ensure parsing is consistent and as-expected, please specify a format.\n",
      "  event['until'] = pd.to_datetime(event['until'], utc=True, errors='coerce')\n"
     ]
    }
   ],
   "source": [
    "event['start'] = pd.to_datetime(event['start'], utc=True, errors='coerce')\n",
    "event['end'] = pd.to_datetime(event['end'], utc=True, errors='coerce')\n",
    "event['until'] = pd.to_datetime(event['until'], utc=True, errors='coerce')\n"
   ]
  },
  {
   "cell_type": "code",
   "execution_count": 24,
   "id": "145035bc",
   "metadata": {},
   "outputs": [
    {
     "name": "stdout",
     "output_type": "stream",
     "text": [
      "     id                    title                            start  \\\n",
      "0  1286                  WALKINS 2024-10-21 05:53:32.449000+00:00   \n",
      "1  1269                     Test                              NaT   \n",
      "2  1287                  WALKINS 2024-10-21 06:02:20.519000+00:00   \n",
      "3  1307  Video call consultation                              NaT   \n",
      "4  1308  Video call consultation                              NaT   \n",
      "5  1309  Video call consultation                              NaT   \n",
      "6  1310  Video call consultation                              NaT   \n",
      "7  1311  Video call consultation                              NaT   \n",
      "8  1312  Video call consultation                              NaT   \n",
      "9  1318                     Test                              NaT   \n",
      "\n",
      "                               end                     until  \n",
      "0 2024-10-21 06:22:32.449000+00:00                       NaT  \n",
      "1                              NaT                       NaT  \n",
      "2 2024-10-21 06:32:20.519000+00:00                       NaT  \n",
      "3                              NaT 2024-11-29 09:00:00+00:00  \n",
      "4                              NaT 2024-11-29 09:10:00+00:00  \n",
      "5                              NaT 2024-11-29 09:20:00+00:00  \n",
      "6                              NaT 2024-11-29 09:30:00+00:00  \n",
      "7                              NaT 2024-11-29 09:40:00+00:00  \n",
      "8                              NaT 2024-11-29 09:50:00+00:00  \n",
      "9                              NaT                       NaT  \n"
     ]
    }
   ],
   "source": [
    "print(event.head(10))"
   ]
  },
  {
   "cell_type": "code",
   "execution_count": 25,
   "id": "b9044133",
   "metadata": {},
   "outputs": [],
   "source": [
    "care_reception.columns = care_reception.columns.str.strip()\n",
    "patients.columns = patients.columns.str.strip()\n",
    "participation.columns = participation.columns.str.strip()\n",
    "event.columns = event.columns.str.strip()\n"
   ]
  },
  {
   "cell_type": "code",
   "execution_count": 26,
   "id": "85409469",
   "metadata": {},
   "outputs": [
    {
     "name": "stdout",
     "output_type": "stream",
     "text": [
      "Care Reception columns after strip: Index(['participation_id', 'patient_id', 'unregistered_user_id', 'status',\n",
      "       'meeting_status'],\n",
      "      dtype='object')\n"
     ]
    }
   ],
   "source": [
    "print(\"Care Reception columns after strip:\", care_reception.columns)\n"
   ]
  },
  {
   "cell_type": "markdown",
   "id": "0a8dde7e",
   "metadata": {},
   "source": [
    "Merging tables"
   ]
  },
  {
   "cell_type": "code",
   "execution_count": 27,
   "id": "34b94a38",
   "metadata": {},
   "outputs": [],
   "source": [
    "unified_df = patients.copy()"
   ]
  },
  {
   "cell_type": "code",
   "execution_count": 28,
   "id": "d371dcf1",
   "metadata": {},
   "outputs": [],
   "source": [
    "unified_df = patients.merge(\n",
    "    care_reception[['patient_id', 'participation_id', 'status', 'meeting_status']],\n",
    "    left_on='id',  \n",
    "    right_on='patient_id',\n",
    "    how='left'\n",
    ")"
   ]
  },
  {
   "cell_type": "code",
   "execution_count": 29,
   "id": "0bc447b4",
   "metadata": {},
   "outputs": [],
   "source": [
    "unified_df = unified_df.merge(participation[['id', 'event_id']], \n",
    "                              left_on='participation_id', \n",
    "                              right_on='id', \n",
    "                              how='left')\n",
    "\n"
   ]
  },
  {
   "cell_type": "code",
   "execution_count": 30,
   "id": "c380fbae",
   "metadata": {},
   "outputs": [],
   "source": [
    "unified_df = unified_df.merge(\n",
    "    participation[['id', 'event_id']],\n",
    "    left_on='participation_id',\n",
    "    right_on='id',\n",
    "    how='left',\n",
    "    suffixes=('', '_participation')\n",
    ")\n"
   ]
  },
  {
   "cell_type": "code",
   "execution_count": 31,
   "id": "f47048e9",
   "metadata": {},
   "outputs": [
    {
     "name": "stdout",
     "output_type": "stream",
     "text": [
      "       id_x first_name   last_name   gender date_of_birth  \\\n",
      "0       145        Raj       kumar     MALE    1987-02-02   \n",
      "1       145        Raj       kumar     MALE    1987-02-02   \n",
      "2       145        Raj       kumar     MALE    1987-02-02   \n",
      "3       145        Raj       kumar     MALE    1987-02-02   \n",
      "4       145        Raj       kumar     MALE    1987-02-02   \n",
      "...     ...        ...         ...      ...           ...   \n",
      "13772  2564      Sudha          MA   FEMALE    1996-12-22   \n",
      "13773  2566      Nuzha  MeeraLebbe  Unknown    1999-11-20   \n",
      "13774  2567      Anaas     Mohamed     MALE    1998-11-20   \n",
      "13775  2567      Anaas     Mohamed     MALE    1998-11-20   \n",
      "13776  2567      Anaas     Mohamed     MALE    1998-11-20   \n",
      "\n",
      "                        email          phone  marital_status  \\\n",
      "0                     Unknown  91 9894336789             1.0   \n",
      "1                     Unknown  91 9894336789             1.0   \n",
      "2                     Unknown  91 9894336789             1.0   \n",
      "3                     Unknown  91 9894336789             1.0   \n",
      "4                     Unknown  91 9894336789             1.0   \n",
      "...                       ...            ...             ...   \n",
      "13772   sudhama0518@gmail.com  94 0715324625             1.0   \n",
      "13773       nuzha12@gmail.com  94 0763845455             0.0   \n",
      "13774  nuzhalebbe99@gmail.com  94 0775403881             1.0   \n",
      "13775  nuzhalebbe99@gmail.com  94 0775403881             1.0   \n",
      "13776  nuzhalebbe99@gmail.com  94 0775403881             1.0   \n",
      "\n",
      "              Full_Name  patient_id  participation_id  status meeting_status  \\\n",
      "0             Raj kumar       145.0            4044.0     1.0          False   \n",
      "1             Raj kumar       145.0            6906.0     1.0          False   \n",
      "2             Raj kumar       145.0            7018.0     1.0          False   \n",
      "3             Raj kumar       145.0            7986.0     1.0          False   \n",
      "4             Raj kumar       145.0           12027.0     1.0          False   \n",
      "...                 ...         ...               ...     ...            ...   \n",
      "13772          Sudha MA      2564.0           29505.0     1.0          False   \n",
      "13773  Nuzha MeeraLebbe      2566.0           29479.0     1.0          False   \n",
      "13774     Anaas Mohamed      2567.0           29473.0     1.0          False   \n",
      "13775     Anaas Mohamed      2567.0           29474.0     1.0          False   \n",
      "13776     Anaas Mohamed      2567.0           45426.0     1.0          False   \n",
      "\n",
      "          id_y  event_id       id  event_id_participation  \n",
      "0          NaN       NaN      NaN                     NaN  \n",
      "1       6906.0    5426.0   6906.0                  5426.0  \n",
      "2       7018.0    5542.0   7018.0                  5542.0  \n",
      "3       7986.0    6526.0   7986.0                  6526.0  \n",
      "4      12027.0   10423.0  12027.0                 10423.0  \n",
      "...        ...       ...      ...                     ...  \n",
      "13772  29505.0   22689.0  29505.0                 22689.0  \n",
      "13773  29479.0   22640.0  29479.0                 22640.0  \n",
      "13774  29473.0   22641.0  29473.0                 22641.0  \n",
      "13775  29474.0   22650.0  29474.0                 22650.0  \n",
      "13776  45426.0   21009.0  45426.0                 21009.0  \n",
      "\n",
      "[13777 rows x 17 columns]\n"
     ]
    }
   ],
   "source": [
    "print(unified_df)"
   ]
  },
  {
   "cell_type": "code",
   "execution_count": 32,
   "id": "f9b1b1b1",
   "metadata": {},
   "outputs": [
    {
     "name": "stdout",
     "output_type": "stream",
     "text": [
      "['id_x', 'first_name', 'last_name', 'gender', 'date_of_birth', 'email', 'phone', 'marital_status', 'Full_Name', 'patient_id', 'participation_id', 'status', 'meeting_status', 'id_y', 'event_id', 'id', 'event_id_participation']\n"
     ]
    }
   ],
   "source": [
    "print(unified_df.columns.tolist())\n"
   ]
  },
  {
   "cell_type": "code",
   "execution_count": 33,
   "id": "1b516d9d",
   "metadata": {},
   "outputs": [],
   "source": [
    "columns_order = ['patient_id', 'Full_Name', 'date_of_birth', 'gender', 'phone', \n",
    "                 'status', 'meeting_status', 'participation_id', 'event_id']\n",
    "\n",
    "unified_df = unified_df[columns_order]\n"
   ]
  },
  {
   "cell_type": "code",
   "execution_count": 34,
   "id": "e2ad4c0a",
   "metadata": {},
   "outputs": [
    {
     "name": "stdout",
     "output_type": "stream",
     "text": [
      "   patient_id  Full_Name date_of_birth gender          phone  status  \\\n",
      "0       145.0  Raj kumar    1987-02-02   MALE  91 9894336789     1.0   \n",
      "1       145.0  Raj kumar    1987-02-02   MALE  91 9894336789     1.0   \n",
      "2       145.0  Raj kumar    1987-02-02   MALE  91 9894336789     1.0   \n",
      "3       145.0  Raj kumar    1987-02-02   MALE  91 9894336789     1.0   \n",
      "4       145.0  Raj kumar    1987-02-02   MALE  91 9894336789     1.0   \n",
      "\n",
      "  meeting_status  participation_id  event_id  \n",
      "0          False            4044.0       NaN  \n",
      "1          False            6906.0    5426.0  \n",
      "2          False            7018.0    5542.0  \n",
      "3          False            7986.0    6526.0  \n",
      "4          False           12027.0   10423.0  \n",
      "Total rows: 13777\n"
     ]
    }
   ],
   "source": [
    "print(unified_df.head())\n",
    "print(\"Total rows:\", unified_df.shape[0])\n"
   ]
  },
  {
   "cell_type": "code",
   "execution_count": 38,
   "id": "9fb30a63",
   "metadata": {},
   "outputs": [
    {
     "name": "stdout",
     "output_type": "stream",
     "text": [
      "Duplicates removed. Total rows now: 2\n"
     ]
    }
   ],
   "source": [
    "unified_df= unified_df.duplicated()\n",
    "unified_df= unified_df.drop_duplicates()\n",
    "print(\"Duplicates removed. Total rows now:\", unified_df.shape[0])   "
   ]
  },
  {
   "cell_type": "code",
   "execution_count": 39,
   "id": "2dad7521",
   "metadata": {},
   "outputs": [
    {
     "name": "stdout",
     "output_type": "stream",
     "text": [
      "✅ Unified table saved successfully!\n"
     ]
    }
   ],
   "source": [
    "unified_df.to_csv(\"E:/Assessment_Data/unified_table.csv\", index=False)\n",
    "print(\"✅ Unified table saved successfully!\")\n"
   ]
  },
  {
   "cell_type": "code",
   "execution_count": 40,
   "id": "50f51741",
   "metadata": {},
   "outputs": [],
   "source": [
    "bucket_name = \"my-bucket\"  \n",
    "file_path = \"E:/Assessment_Data/unified_table.csv\"\n",
    "object_name = \"raw/new/unified_table.csv\"\n"
   ]
  },
  {
   "cell_type": "code",
   "execution_count": 41,
   "id": "aaf3784f",
   "metadata": {},
   "outputs": [
    {
     "name": "stdout",
     "output_type": "stream",
     "text": [
      "✅ File uploaded successfully to MinIO!\n"
     ]
    }
   ],
   "source": [
    "try:\n",
    "    s3.upload_file(file_path, bucket_name, object_name)\n",
    "    print(\"✅ File uploaded successfully to MinIO!\")\n",
    "except Exception as e:\n",
    "    print(\"❌ Upload failed:\", e)\n"
   ]
  }
 ],
 "metadata": {
  "kernelspec": {
   "display_name": ".venv",
   "language": "python",
   "name": "python3"
  },
  "language_info": {
   "codemirror_mode": {
    "name": "ipython",
    "version": 3
   },
   "file_extension": ".py",
   "mimetype": "text/x-python",
   "name": "python",
   "nbconvert_exporter": "python",
   "pygments_lexer": "ipython3",
   "version": "3.11.9"
  }
 },
 "nbformat": 4,
 "nbformat_minor": 5
}
